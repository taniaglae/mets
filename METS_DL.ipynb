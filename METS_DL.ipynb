{
 "cells": [
  {
   "cell_type": "code",
   "execution_count": null,
   "metadata": {},
   "outputs": [],
   "source": [
    "import keras\n",
    "from keras.models import Sequential\n",
    "from tensorflow.keras import layers\n",
    "from keras.layers import Dense\n",
    "from keras.layers import Conv1D, Flatten, Dense, Activation\n",
    "from keras.layers import TimeDistributed\n",
    "from keras.metrics import CategoricalAccuracy,BinaryAccuracy\n",
    "from keras.optimizers import Adam\n",
    "\n",
    "from sklearn.metrics import confusion_matrix\n",
    "from sklearn.model_selection import train_test_split\n",
    "from sklearn.metrics import accuracy_score, f1_score,balanced_accuracy_score\n",
    "\n",
    "import time\n",
    "import statistics \n",
    "import numpy as np\n",
    "from numpy import unique\n",
    "import pandas as pd\n"
   ]
  },
  {
   "cell_type": "code",
   "execution_count": null,
   "metadata": {},
   "outputs": [],
   "source": [
    "#Training in 30 steps\n",
    "def testing_30(nn_Fea,xtrain,xtest, ytrain,ytest):\n",
    "    accuracy1_list=[]\n",
    "    bacc_list=[]\n",
    "    ppv_list=[]\n",
    "    npv_list=[]\n",
    "    for i in range(0,30):\n",
    "        model = Sequential()\n",
    "        model = Sequential()\n",
    "        model.add(Conv1D(16, 1, activation=\"sigmoid\", input_shape=(nn_Fea,1)))\n",
    "        model.add(Flatten())\n",
    "        model.add(Dense(8, activation=\"sigmoid\"))\n",
    "        model.add(Dense(8, activation = 'sigmoid'))\n",
    "        model.add(Dense(3, activation = 'sigmoid'))\n",
    "\n",
    "        model.compile(loss='sparse_categorical_crossentropy', optimizer='Adam', metrics=['accuracy'])\n",
    "        model.summary()\n",
    "        model.fit(xtrain, ytrain, batch_size=100,epochs=2500, verbose=0,shuffle=True)\n",
    "    \n",
    "        acc = model.evaluate(xtrain, ytrain)\n",
    "        print(\"Loss:\", acc[0], \" Accuracy:\", acc[1])\n",
    "\n",
    "        pred = model.predict(xtest)\n",
    "        pred_y = pred.argmax(axis=-1)\n",
    "\n",
    "        y_test1=ytest.astype(float).reshape(ytest.size,)\n",
    "\n",
    "        cm = confusion_matrix(y_test1, pred_y)\n",
    "    \n",
    "        tn=cm[0,0]\n",
    "        fp=cm[0,1]\n",
    "        fn=cm[1,0]\n",
    "        tp=cm[1,1]\n",
    "\n",
    "        total1=tn+ fp+ fn+ tp\n",
    "        accuracy1=(tp+tn)/total1\n",
    "        bacc=balanced_accuracy_score(y_test1,pred_y)\n",
    "        ppv=tp/(tp+fp)\n",
    "        npv=tn/(tn+fn)\n",
    "    \n",
    "        accuracy1_list.append(accuracy1)\n",
    "        bacc_list.append(bacc)\n",
    "        ppv_list.append(ppv)\n",
    "        npv_list.append(npv)\n",
    "        \n",
    "    return accuracy1_list,bacc_list,ppv_list,npv_list\n",
    "#Deep learning model\n",
    "def training(nn_Fea,xtrain, xtest,ytrain,y_test):\n",
    "    model = Sequential()\n",
    "    model.add(Conv1D(16, 1, activation=\"sigmoid\", input_shape=(nn_Fea,1)))\n",
    "    model.add(Flatten())\n",
    "    model.add(Dense(8, activation=\"sigmoid\"))\n",
    "    model.add(Dense(8, activation = 'sigmoid'))\n",
    "    model.add(Dense(3, activation = 'sigmoid'))\n",
    "    model.compile(loss='sparse_categorical_crossentropy', optimizer='Adam', metrics=['accuracy'])\n",
    "    model.summary()\n",
    "    model.fit(xtrain, ytrain, batch_size=100,epochs=2500, verbose=0,shuffle=True)\n",
    "\n",
    "    acc = model.evaluate(xtrain, ytrain)\n",
    "    print(\"Loss:\", acc[0], \" Accuracy:\", acc[1])\n",
    "\n",
    "    pred = model.predict(xtest)\n",
    "    pred_y = pred.argmax(axis=-1)\n",
    "\n",
    "    y_test1=ytest.astype(float).reshape(ytest.size,)\n",
    "\n",
    "    cm = confusion_matrix(y_test1, pred_y)\n",
    "    tn=cm[0,0]\n",
    "    fp=cm[0,1]\n",
    "    fn=cm[1,0]\n",
    "    tp=cm[1,1]\n",
    "\n",
    "    total1=tn+ fp+ fn+ tp\n",
    "    accuracy1=(tp+tn)/total1\n",
    "    bacc=balanced_accuracy_score(y_test1,pred_y)\n",
    "    ppv=tp/(tp+fp)\n",
    "    npv=tn/(tn+fn)\n",
    "\n",
    "    print(accuracy1)\n",
    "    print(bacc)\n",
    "    print(ppv)\n",
    "    print(npv)"
   ]
  },
  {
   "cell_type": "markdown",
   "metadata": {},
   "source": [
    "# WOMEN DATASET"
   ]
  },
  {
   "cell_type": "code",
   "execution_count": null,
   "metadata": {},
   "outputs": [],
   "source": [
    "#Loading file\n",
    "#directory path \n",
    "path_des=\"/MeTS/\"\n",
    "D_Final = pd.DataFrame()\n",
    "#file name in *.csv\n",
    "file=path_des+'women.csv'"
   ]
  },
  {
   "cell_type": "code",
   "execution_count": null,
   "metadata": {},
   "outputs": [],
   "source": [
    "#WOMEN\n",
    "features_PCC=['AGE','WEIGHT','BMI','WAIST','WhtR','SBP','DBP','SLP_SNR','FREC080','FREC032','SM_ATPIII']\n",
    "features_RF=['WAIST','WhtR','DBP','BMI','SBP','WEIGHT','AGE','HEIGHT','FREC080','FREC001','SLP_SNR','FREC084','FREC009','FREC003','SM_ATPIII']\n",
    "features_category=['WAIST','WhtR','BMI','SBP','DBP','AGE','FREC080','FREC083','FREC084','SLP_SNR','SLP_ENG','SLP_NTQ','FREC081','SLP_SMN','FREC003','SM_ATPIII']\n",
    "#feature experiment\n",
    "experiment=features_PCC\n",
    "df = pd.read_csv(file, usecols=experiment)\n",
    "X = df.drop(\"SM_ATPIII\",1)   #Feature Matrix\n",
    "y = df[\"SM_ATPIII\"]          #Target Variable"
   ]
  },
  {
   "cell_type": "code",
   "execution_count": null,
   "metadata": {},
   "outputs": [],
   "source": [
    "#Extract istances from the dataset\n",
    "inst=len(X)\n",
    "nn_Fea=len(experiment)-1\n",
    "dataset = df.values\n",
    "dataset = dataset[0:inst,:]\n",
    "X=dataset[:,0:nn_Fea]\n",
    "y=dataset[:,-1]\n",
    "\n",
    "X = X.reshape(X.shape[0], X.shape[1],1)\n",
    "print(X.shape)\n",
    "\n",
    "print(unique(y))\n",
    "print(unique(y).sum())\n",
    "\n",
    "xtrain, xtest, ytrain, ytest=train_test_split(X, y, test_size=0.3,random_state=42)"
   ]
  },
  {
   "cell_type": "markdown",
   "metadata": {},
   "source": [
    "## Training and testing "
   ]
  },
  {
   "cell_type": "code",
   "execution_count": null,
   "metadata": {},
   "outputs": [],
   "source": [
    "training(nn_Fea,xtrain, xtest,ytrain,y_test)"
   ]
  },
  {
   "cell_type": "code",
   "execution_count": null,
   "metadata": {},
   "outputs": [],
   "source": [
    "[accuracy1_list,bacc_list,ppv_list,npv_list]=testing_30(nn_Fea,xtrain, xtest,ytrain,y_test)"
   ]
  },
  {
   "cell_type": "markdown",
   "metadata": {},
   "source": [
    "## Metrics"
   ]
  },
  {
   "cell_type": "code",
   "execution_count": null,
   "metadata": {},
   "outputs": [],
   "source": [
    "prom= statistics.mean(accuracy1_list) \n",
    "print(\"Accuracy 1 Mean:\", prom) \n",
    "dev=statistics.stdev(accuracy1_list)\n",
    "print(\"Accuracy 1 SD:\", dev)\n",
    "\n",
    "prom= statistics.mean(bacc_list) \n",
    "print(\"Bal Accuracy 1 Mean:\", prom) \n",
    "dev=statistics.stdev(bacc_list)\n",
    "print(\"Bal Accuracy 1 SD:\", dev)\n",
    "\n",
    "prom= statistics.mean(ppv_list) \n",
    "print(\"PPV 1 Mean:\", prom) \n",
    "dev=statistics.stdev(ppv_list)\n",
    "print(\"PPV 1 SD:\", dev)\n",
    "\n",
    "prom= statistics.mean(npv_list) \n",
    "print(\"NPV 1 Mean:\", prom) \n",
    "dev=statistics.stdev(npv_list)\n",
    "print(\"NPV 1 SD:\", dev)\n"
   ]
  },
  {
   "cell_type": "markdown",
   "metadata": {},
   "source": [
    "# MEN DATASET"
   ]
  },
  {
   "cell_type": "code",
   "execution_count": null,
   "metadata": {},
   "outputs": [],
   "source": [
    "#Loading file\n",
    "#directory path \n",
    "path_des=\"/MeTS/\"\n",
    "D_Final = pd.DataFrame()\n",
    "#file name in *.csv\n",
    "file=path_des+'men.csv'"
   ]
  },
  {
   "cell_type": "code",
   "execution_count": null,
   "metadata": {},
   "outputs": [],
   "source": [
    "#MEN\n",
    "features_PCC=['AGE','Weight','BMI','Waist','WhtR','SBP','DBP','SLP_SNR','FREC080','FREC046','SM_ATPIII']\n",
    "features_RF=['Waist','DBP','SBP','BMI','WhtR','Weight','Height','AGE','FREC084','FREC083','FREC064','FREC080','SLP_SNR','SM_ATPIII']\n",
    "features_category=['Waist','DBP','SBP','BMI','WhtR','AGE','FREC084','FREC083','FREC055','FREC064','FREC080','SLP_SMN','SLP_NTQ','SLP_SNR','SLP_ENG','SM_ATPIII']\n",
    "experiment=features_PCC\n",
    "df = pd.read_csv(file, usecols=experiment)\n",
    "X = df.drop(\"SM_ATPIII\",1)   #Feature Matrix\n",
    "y = df[\"SM_ATPIII\"]          #Target Variable\n"
   ]
  },
  {
   "cell_type": "code",
   "execution_count": null,
   "metadata": {},
   "outputs": [],
   "source": [
    "#Extract istances from the dataset\n",
    "inst=len(X)\n",
    "nn_Fea=len(experiment)-1\n",
    "dataset = df.values\n",
    "dataset = dataset[0:inst,:]\n",
    "X=dataset[:,0:nn_Fea]\n",
    "y=dataset[:,-1]\n",
    "\n",
    "X = X.reshape(X.shape[0], X.shape[1],1)\n",
    "print(X.shape)\n",
    "\n",
    "print(unique(y))\n",
    "print(unique(y).sum())\n",
    "\n",
    "xtrain, xtest, ytrain, ytest=train_test_split(X, y, test_size=0.3,random_state=42)"
   ]
  },
  {
   "cell_type": "markdown",
   "metadata": {},
   "source": [
    "## Training and testing "
   ]
  },
  {
   "cell_type": "code",
   "execution_count": null,
   "metadata": {},
   "outputs": [],
   "source": [
    "training(nn_Fea,xtrain, xtest,ytrain,ytest)"
   ]
  },
  {
   "cell_type": "code",
   "execution_count": null,
   "metadata": {},
   "outputs": [],
   "source": [
    "[accuracy1_list,bacc_list,ppv_list,npv_list]=testing_30(nn_Fea,xtrain, xtest,ytrain,ytest)"
   ]
  },
  {
   "cell_type": "markdown",
   "metadata": {},
   "source": [
    "## Metrics"
   ]
  },
  {
   "cell_type": "code",
   "execution_count": null,
   "metadata": {},
   "outputs": [],
   "source": [
    "prom= statistics.mean(accuracy1_list) \n",
    "print(\"Accuracy 1 Mean:\", prom) \n",
    "dev=statistics.stdev(accuracy1_list)\n",
    "print(\"Accuracy 1 SD:\", dev)\n",
    "\n",
    "prom= statistics.mean(bacc_list) \n",
    "print(\"Bal Accuracy 1 Mean:\", prom) \n",
    "dev=statistics.stdev(bacc_list)\n",
    "print(\"Bal Accuracy 1 SD:\", dev)\n",
    "\n",
    "prom= statistics.mean(ppv_list) \n",
    "print(\"PPV 1 Mean:\", prom) \n",
    "dev=statistics.stdev(ppv_list)\n",
    "print(\"PPV 1 SD:\", dev)\n",
    "\n",
    "prom= statistics.mean(npv_list) \n",
    "print(\"NPV 1 Mean:\", prom) \n",
    "dev=statistics.stdev(npv_list)\n",
    "print(\"NPV 1 SD:\", dev)\n"
   ]
  }
 ],
 "metadata": {
  "kernelspec": {
   "display_name": "Python 3",
   "language": "python",
   "name": "python3"
  },
  "language_info": {
   "codemirror_mode": {
    "name": "ipython",
    "version": 3
   },
   "file_extension": ".py",
   "mimetype": "text/x-python",
   "name": "python",
   "nbconvert_exporter": "python",
   "pygments_lexer": "ipython3",
   "version": "3.7.3"
  }
 },
 "nbformat": 4,
 "nbformat_minor": 4
}
